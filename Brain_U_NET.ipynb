{
  "cells": [
    {
      "cell_type": "markdown",
      "metadata": {
        "id": "view-in-github",
        "colab_type": "text"
      },
      "source": [
        "<a href=\"https://colab.research.google.com/github/Witcape/Brain_Tumour_Segmentation/blob/main/Brain_U_NET.ipynb\" target=\"_parent\"><img src=\"https://colab.research.google.com/assets/colab-badge.svg\" alt=\"Open In Colab\"/></a>"
      ]
    },
    {
      "cell_type": "code",
      "execution_count": null,
      "id": "d0dbcc95",
      "metadata": {
        "id": "d0dbcc95"
      },
      "outputs": [],
      "source": [
        "import tensorflow as tf\n",
        "import numpy as np\n",
        "import pandas\n",
        "import matplotlib.pyplot as plt\n",
        "import nibabel as nib"
      ]
    },
    {
      "cell_type": "code",
      "execution_count": null,
      "id": "fe3d11bd",
      "metadata": {
        "id": "fe3d11bd"
      },
      "outputs": [],
      "source": [
        "from sklearn.preprocessing import MinMaxScaler\n",
        "scaler = MinMaxScaler()"
      ]
    },
    {
      "cell_type": "code",
      "execution_count": null,
      "id": "cbac4527",
      "metadata": {
        "id": "cbac4527"
      },
      "outputs": [],
      "source": [
        "train_dataset_path = 'C:/Users/cbil/Downloads/Brats_2018/MICCAI_BraTS_2018_Data_Training/HGG/'"
      ]
    },
    {
      "cell_type": "code",
      "execution_count": null,
      "id": "97867cb4",
      "metadata": {
        "id": "97867cb4",
        "outputId": "dcb7d1da-41a0-4266-f2c2-e6eb8a57ddb7"
      },
      "outputs": [
        {
          "data": {
            "text/plain": [
              "(240, 240, 155)"
            ]
          },
          "execution_count": 18,
          "metadata": {},
          "output_type": "execute_result"
        }
      ],
      "source": [
        "test_image_flair = nib.load(train_dataset_path + 'Brats18_2013_2_1/' + 'Brats18_2013_2_1_flair.nii').get_fdata()\n",
        "test_image_t1 = nib.load(train_dataset_path + 'Brats18_2013_2_1/' + 'Brats18_2013_2_1_t1.nii').get_fdata()\n",
        "test_image_t1ce = nib.load(train_dataset_path + 'Brats18_2013_2_1/' + 'Brats18_2013_2_1_t1ce.nii').get_fdata()\n",
        "test_image_t2 = nib.load(train_dataset_path + 'Brats18_2013_2_1/' + 'Brats18_2013_2_1_t2.nii').get_fdata()\n",
        "\n",
        "np.shape(test_image_flair)"
      ]
    },
    {
      "cell_type": "code",
      "execution_count": null,
      "id": "603ed0c7",
      "metadata": {
        "id": "603ed0c7",
        "outputId": "384c08ca-c4a7-49e9-d1ce-138f4c9c2985"
      },
      "outputs": [
        {
          "data": {
            "text/plain": [
              "(240, 37200)"
            ]
          },
          "execution_count": 20,
          "metadata": {},
          "output_type": "execute_result"
        }
      ],
      "source": [
        "flattened_data_flair = np.reshape(test_image_flair,(test_image_flair.shape[0], -1))\n",
        "flattened_data_t1 = np.reshape(test_image_t1,(test_image_t1.shape[0], -1))\n",
        "flattened_data_t1ce = np.reshape(test_image_t1ce,(test_image_t1ce.shape[0], -1))\n",
        "flattened_data_t2 = np.reshape(test_image_t2,(test_image_t2.shape[0], -1))\n",
        "\n",
        "np.shape(flattened_data_flair)"
      ]
    },
    {
      "cell_type": "code",
      "execution_count": null,
      "id": "e98efd35",
      "metadata": {
        "id": "e98efd35"
      },
      "outputs": [],
      "source": [
        "scaled_data_flair = scaler.fit_transform(flattened_data_flair)\n",
        "scaled_data_t1 = scaler.fit_transform(flattened_data_t1)\n",
        "scaled_data_t1ce = scaler.fit_transform(flattened_data_t1ce)\n",
        "scaled_data_t2 = scaler.fit_transform(flattened_data_t2)\n",
        "\n",
        "np.shape(scaled_data_flair)"
      ]
    },
    {
      "cell_type": "code",
      "execution_count": null,
      "id": "6750453b",
      "metadata": {
        "id": "6750453b",
        "outputId": "30ebe2d7-9869-40b9-c50b-52274ce95673"
      },
      "outputs": [
        {
          "name": "stdout",
          "output_type": "stream",
          "text": [
            "(240, 240, 155)\n",
            "1.0\n"
          ]
        }
      ],
      "source": [
        "scaled_data_flair = np.reshape(scaled_data_flair, np.shape(test_image_flair))\n",
        "scaled_data_t1 = np.reshape(scaled_data_t1, np.shape(test_image_t1))\n",
        "scaled_data_t1ce = np.reshape(scaled_data_t1ce, np.shape(test_image_t1ce))\n",
        "scaled_data_t2 = np.reshape(scaled_data_t2, np.shape(test_image_t2))\n",
        "\n",
        "print(np.shape(scaled_data_flair))\n",
        "print(scaled_data_flair.max())"
      ]
    },
    {
      "cell_type": "code",
      "execution_count": null,
      "id": "50be580a",
      "metadata": {
        "id": "50be580a"
      },
      "outputs": [],
      "source": []
    }
  ],
  "metadata": {
    "kernelspec": {
      "display_name": "Python 3 (ipykernel)",
      "language": "python",
      "name": "python3"
    },
    "language_info": {
      "codemirror_mode": {
        "name": "ipython",
        "version": 3
      },
      "file_extension": ".py",
      "mimetype": "text/x-python",
      "name": "python",
      "nbconvert_exporter": "python",
      "pygments_lexer": "ipython3",
      "version": "3.9.17"
    },
    "colab": {
      "provenance": [],
      "include_colab_link": true
    }
  },
  "nbformat": 4,
  "nbformat_minor": 5
}