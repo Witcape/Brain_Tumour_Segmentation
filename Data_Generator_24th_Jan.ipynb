{
 "cells": [
  {
   "cell_type": "code",
   "execution_count": 7,
   "id": "a3937a45",
   "metadata": {},
   "outputs": [],
   "source": [
    "import os\n",
    "import numpy as np\n",
    "import matplotlib.pyplot as plt\n",
    "import random"
   ]
  },
  {
   "cell_type": "code",
   "execution_count": 14,
   "id": "c7b0e779",
   "metadata": {},
   "outputs": [],
   "source": [
    "def load_img(img_dir, img_list):\n",
    "    images = []\n",
    "    for i, image_name in enumerate(img_list):\n",
    "        if(image_name.split('.')[1] == 'npy'):\n",
    "            image = np.load(img_dir + image_name)\n",
    "            images.append(image)\n",
    "    images = np.array(images)\n",
    "    return(images)"
   ]
  },
  {
   "cell_type": "code",
   "execution_count": 15,
   "id": "30cd1174",
   "metadata": {},
   "outputs": [],
   "source": [
    "def imageLoader(img_dir, img_list, mask_dir, mask_list, batch_size):\n",
    "    L = len(img_list)\n",
    "    \n",
    "    while True:\n",
    "        batch_start = 0\n",
    "        batch_end = batch_size\n",
    "        \n",
    "        while batch_start < L:\n",
    "            limit = min(batch_end, L)\n",
    "            \n",
    "            X = load_img(img_dir, img_list[batch_start : limit])\n",
    "            Y = load_img(mask_dir, mask_list[batch_start : limit])\n",
    "            \n",
    "            yield(X,Y)\n",
    "            \n",
    "            batch_start = batch_start + 1\n",
    "            batch_end = batch_end + 1"
   ]
  },
  {
   "cell_type": "code",
   "execution_count": 16,
   "id": "78d83d2c",
   "metadata": {},
   "outputs": [],
   "source": [
    "train_img_dir = 'C:/Users/cbil/Downloads/Brats 2020/final_data/train/images/'\n",
    "train_mask_dir = 'C:/Users/cbil/Downloads/Brats 2020/final_data/train/masks/'\n",
    "train_img_list = os.listdir(train_img_dir)\n",
    "train_mask_list = os.listdir(train_mask_dir)"
   ]
  },
  {
   "cell_type": "code",
   "execution_count": 17,
   "id": "e5314d26",
   "metadata": {},
   "outputs": [],
   "source": [
    "batch_size = 2"
   ]
  },
  {
   "cell_type": "code",
   "execution_count": 18,
   "id": "4088a2a2",
   "metadata": {},
   "outputs": [],
   "source": [
    "train_image_datagen = imageLoader(train_img_dir, train_img_list, train_mask_dir, train_mask_list, batch_size)"
   ]
  },
  {
   "cell_type": "code",
   "execution_count": 19,
   "id": "28aa24c3",
   "metadata": {},
   "outputs": [
    {
     "name": "stdout",
     "output_type": "stream",
     "text": [
      "(2, 128, 128, 128, 3)\n",
      "(2, 128, 128, 128, 4)\n"
     ]
    }
   ],
   "source": [
    "img, mask = train_image_datagen.__next__()\n",
    "print(img.shape)\n",
    "print(mask.shape)"
   ]
  },
  {
   "cell_type": "code",
   "execution_count": null,
   "id": "febe2311",
   "metadata": {},
   "outputs": [],
   "source": []
  }
 ],
 "metadata": {
  "kernelspec": {
   "display_name": "Python 3 (ipykernel)",
   "language": "python",
   "name": "python3"
  },
  "language_info": {
   "codemirror_mode": {
    "name": "ipython",
    "version": 3
   },
   "file_extension": ".py",
   "mimetype": "text/x-python",
   "name": "python",
   "nbconvert_exporter": "python",
   "pygments_lexer": "ipython3",
   "version": "3.9.17"
  }
 },
 "nbformat": 4,
 "nbformat_minor": 5
}
