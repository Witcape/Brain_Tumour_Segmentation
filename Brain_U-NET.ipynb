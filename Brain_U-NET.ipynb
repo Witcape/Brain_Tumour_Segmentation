{
 "cells": [
  {
   "cell_type": "code",
   "execution_count": 15,
   "id": "d0dbcc95",
   "metadata": {},
   "outputs": [],
   "source": [
    "import tensorflow as tf\n",
    "import numpy as np\n",
    "import pandas\n",
    "import matplotlib.pyplot as plt\n",
    "import nibabel as nib"
   ]
  },
  {
   "cell_type": "code",
   "execution_count": 16,
   "id": "fe3d11bd",
   "metadata": {},
   "outputs": [],
   "source": [
    "from sklearn.preprocessing import MinMaxScaler\n",
    "scaler = MinMaxScaler()"
   ]
  },
  {
   "cell_type": "code",
   "execution_count": 17,
   "id": "cbac4527",
   "metadata": {},
   "outputs": [],
   "source": [
    "train_dataset_path = 'C:/Users/cbil/Downloads/Brats_2018/MICCAI_BraTS_2018_Data_Training/HGG/'"
   ]
  },
  {
   "cell_type": "code",
   "execution_count": 22,
   "id": "97867cb4",
   "metadata": {},
   "outputs": [
    {
     "data": {
      "text/plain": [
       "(240, 240, 155)"
      ]
     },
     "execution_count": 22,
     "metadata": {},
     "output_type": "execute_result"
    }
   ],
   "source": [
    "test_image_flair = nib.load(train_dataset_path + 'Brats18_2013_2_1/' + 'Brats18_2013_2_1_flair.nii').get_fdata()\n",
    "np.shape(test_image_flair)"
   ]
  },
  {
   "cell_type": "code",
   "execution_count": 33,
   "id": "603ed0c7",
   "metadata": {},
   "outputs": [
    {
     "data": {
      "text/plain": [
       "(8928000,)"
      ]
     },
     "execution_count": 33,
     "metadata": {},
     "output_type": "execute_result"
    }
   ],
   "source": [
    "flattened_data = np.reshape(test_image_flair, -1)\n",
    "np.shape(flattened_data)"
   ]
  },
  {
   "cell_type": "code",
   "execution_count": null,
   "id": "e98efd35",
   "metadata": {
    "collapsed": true
   },
   "outputs": [],
   "source": []
  }
 ],
 "metadata": {
  "kernelspec": {
   "display_name": "Python 3 (ipykernel)",
   "language": "python",
   "name": "python3"
  },
  "language_info": {
   "codemirror_mode": {
    "name": "ipython",
    "version": 3
   },
   "file_extension": ".py",
   "mimetype": "text/x-python",
   "name": "python",
   "nbconvert_exporter": "python",
   "pygments_lexer": "ipython3",
   "version": "3.9.17"
  }
 },
 "nbformat": 4,
 "nbformat_minor": 5
}
